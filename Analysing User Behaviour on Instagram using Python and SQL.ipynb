{
 "cells": [
  {
   "cell_type": "markdown",
   "metadata": {},
   "source": [
    "# Analysing User Behaviour on Instagram using Python and SQL\n",
    "\n",
    "In this project, you will be working on a real-world dataset to analyze a dataset of user behavior of a highly popular social media platform, Instagram. This project aims on cleaning the dataset, analyze the given dataset, and mine informational quality insights using Python and SQL. "
   ]
  },
  {
   "cell_type": "markdown",
   "metadata": {},
   "source": [
    "Step by Step Process of Live Project Execution\n",
    "\n",
    "In this module, you will query the dataset using structured query language to gain insights from the database. The problem statements to be solved will be provided to you, and you will need to provide the solution for the same using your logic. Different concepts of SQL will be used in this process, such as aggregating the data, grouping the data, ordering the data, etc\n"
   ]
  },
  {
   "cell_type": "markdown",
   "metadata": {},
   "source": [
    "Task 1: Data Cleaning For Comments\n",
    "    \n",
    "    \n",
    "Removing Unwanted Columns and Renaming Appropriate Columns for Improved Analysis:\n",
    "\n",
    "Data Cleaning for Comments is a process of removing unwanted columns and renaming the appropriate columns in a dataset containing comments. It involves identifying and removing irrelevant or redundant columns and renaming the columns to make them more descriptive and consistent with the content of the dataset. This improves the quality and usability of the data for analysis and modeling purposes.\n"
   ]
  },
  {
   "cell_type": "code",
   "execution_count": 9,
   "metadata": {},
   "outputs": [],
   "source": [
    "import pandas as pd\n",
    "import numpy as np\n",
    "import warnings\n",
    "warnings.filterwarnings(\"ignore\")\n",
    "\n",
    "def read_data_from_csv():\n",
    "    comments=pd.read_csv('comments.csv')\n",
    "    return comments\n",
    "\n",
    "\n",
    "def data_cleaning():\n",
    "    # Load the dataset\n",
    "    comments_df = pd.read_csv('comments.csv')\n",
    "\n",
    "    # Remove unwanted columns\n",
    "    comments_df = comments_df.drop(['posted date', 'emoji used', 'Hashtags used count'], axis=1)\n",
    "\n",
    "    # Rename columns\n",
    "    comments_df = comments_df.rename(columns={'comment': 'comment_text', 'User  id': 'user_id', 'Photo id': 'photo_id', 'created Timestamp': 'created_at'})\n",
    "\n",
    "    # Save the cleaned dataset to a new CSV file\n",
    "    comments_df.to_csv('cleaned_comments1.csv')\n",
    "    return comments_df\n",
    "#Do not Delete the Following function\n",
    "def task_runner():\n",
    "    data_cleaning()"
   ]
  },
  {
   "cell_type": "code",
   "execution_count": 10,
   "metadata": {},
   "outputs": [],
   "source": [
    "task_runner()"
   ]
  },
  {
   "cell_type": "markdown",
   "metadata": {},
   "source": [
    "Task 2 Data Cleaning for follows:\n",
    "Removing Unwanted Columns and Renaming Appropriate Columns for Improved Analysis\n",
    "Data Cleaning for follows is a process of removing unwanted columns and renaming the appropriate columns in a dataset containing follows. It involves identifying and removing irrelevant or redundant columns and renaming the columns to make them more descriptive and consistent with the content of the dataset. This improves the quality and usability of the data for analysis and modeling purposes.\n",
    "\n",
    "How to finish the current Task?\n",
    "To complete the current task, write your Python code in the \"data_cleaning()\" function in the \"follows.py\" file, and then click on \"Run Test\" to finish the task."
   ]
  },
  {
   "cell_type": "code",
   "execution_count": 11,
   "metadata": {},
   "outputs": [],
   "source": [
    "import pandas as pd\n",
    "import numpy as np\n",
    "import warnings\n",
    "warnings.filterwarnings(\"ignore\")\n",
    "\n",
    "def read_data_from_csv():\n",
    "    follows=pd.read_csv('follows.csv')\n",
    "    return follows\n",
    "\n",
    "\n",
    "def data_cleaning():\n",
    "    # Load the DataFrame from the CSV file that was already loaded\n",
    "    follows_data = read_data_from_csv()\n",
    "\n",
    "    # Remove unwanted columns\n",
    "    follows_data.drop(['is follower active', 'followee Acc status'], axis=1, inplace=True)\n",
    "\n",
    "    # Rename columns to match the allowed column names\n",
    "    follows_data.rename(columns={\"follower\": \"follower_id\", \"followee \": \"followee_id\", \"created time\": \"created_at\"}, inplace=True)\n",
    "\n",
    "    # Export cleaned DataFrame to a new CSV file named \"follows_cleaned.csv\"\n",
    "    follows_data.to_csv('follows_cleaned3.csv', index=False)\n",
    "\n",
    "    return follows_data\n",
    "\n",
    "\n",
    "# Do not Delete the Following function\n",
    "def task_runner():\n",
    "    data_cleaning()\n"
   ]
  },
  {
   "cell_type": "markdown",
   "metadata": {},
   "source": [
    "Task 3\n",
    "Data Cleaning for likes:\n",
    "Removing Unwanted Columns and Renaming Appropriate Columns for Improved Analysis\n",
    "Data Cleaning for likes is a process of removing unwanted columns and renaming the appropriate columns in a dataset containing likes. It involves identifying and removing irrelevant or redundant columns and renaming the columns to make them more descriptive and consistent with the content of the dataset. This improves the quality and usability of the data for analysis and modeling purposes.\n",
    "\n",
    "How to finish the current Task?\n",
    "To complete the current task, write your Python code in the \"data_cleaning()\" function in the \"likes.py\" file, and then click on \"Run Test\" to finish the task."
   ]
  },
  {
   "cell_type": "code",
   "execution_count": 5,
   "metadata": {},
   "outputs": [],
   "source": [
    "import pandas as pd\n",
    "import numpy as np\n",
    "import warnings\n",
    "warnings.filterwarnings(\"ignore\")\n",
    "\n",
    "def read_data_from_csv():\n",
    "    likes=pd.read_csv('likes.csv')\n",
    "    return likes\n",
    "\n",
    "\n",
    "def data_cleaning():\n",
    "    #DO NOT REMOVE FOLLOWING LINE\n",
    "    #call remove_unwanted_columns() function to get dataframe\n",
    "    likes_df=read_data_from_csv()\n",
    "\n",
    "    #Remove Unwanted columns\n",
    "    likes_df = likes_df.drop(['following or not','like type'], axis=1)\n",
    "    \n",
    "    #rename columns, only these columns are allowed in the dataset\n",
    "    # 1.\tuser_id\n",
    "    # 2.\tphoto_id\n",
    "    # 3.\tcreated_at\n",
    "    likes_df.rename(columns={'user ': 'user_id', 'photo': 'photo_id', 'created time': 'created_at'}, inplace=True)\n",
    "\n",
    "    #export cleaned Dataset to newcsv file named \"likes_cleaned.csv\"\n",
    "    likes_df.to_csv('likes_cleaned1.csv')\n",
    "    return likes_df\n",
    "\n",
    "\n",
    "#Do not Delete the Following function\n",
    "def task_runner():\n",
    "    data_cleaning()"
   ]
  },
  {
   "cell_type": "markdown",
   "metadata": {},
   "source": [
    "Task 4\n",
    "\n",
    "Data Cleaning for photo_tags:\n",
    "Removing Unwanted Columns and Renaming Appropriate Columns for Improved Analysis\n",
    "Data Cleaning for photo_tags is a process of removing unwanted columns and renaming the appropriate columns in a dataset containing photo_tags. It involves identifying and removing irrelevant or redundant columns and renaming the columns to make them more descriptive and consistent with the content of the dataset. This improves the quality and usability of the data for analysis and modeling purposes.\n",
    "\n",
    "How to finish the current Task?\n",
    "To complete the current task, write your Python code in the \"data_cleaning()\" function in the \"photo_tags.py\" file, and then click on \"Run Test\" to finish the task.\n",
    "\n"
   ]
  },
  {
   "cell_type": "code",
   "execution_count": 6,
   "metadata": {},
   "outputs": [],
   "source": [
    "import pandas as pd\n",
    "import numpy as np\n",
    "import warnings\n",
    "warnings.filterwarnings(\"ignore\")\n",
    "\n",
    "def read_data_from_csv():\n",
    "    photo_tags=pd.read_csv('photo_tags.csv')\n",
    "    return photo_tags\n",
    "\n",
    "\n",
    "def data_cleaning():\n",
    "    #DO NOT REMOVE FOLLOWING LINE\n",
    "    #call remove_unwanted_columns() function to get dataframe\n",
    "    photo_tags=read_data_from_csv()\n",
    "\n",
    "    #Remove Unwanted columns\n",
    "    photo_tags = photo_tags.drop('user id',axis=1)\n",
    "    \n",
    "    #rename columns, only these columns are allowed in the dataset\n",
    "    # 1.\tphoto_id\n",
    "    # 2.\ttag_id\n",
    "    photo_tags = photo_tags.rename(columns={'photo':'photo_id','tag ID':'tag_id'})\n",
    "    #export cleaned Dataset to newcsv file named \"photo_tags_cleaned.csv\"\n",
    "    photo_tags.to_csv('photo_tags_cleaned1.csv', index=False)\n",
    "    return photo_tags\n",
    "\n",
    "\n",
    "#Do not Delete the Following function\n",
    "def task_runner():\n",
    "    data_cleaning()\n",
    "\n",
    "    "
   ]
  },
  {
   "cell_type": "markdown",
   "metadata": {},
   "source": [
    "Task 5\n",
    "\n",
    "Data Cleaning for photos:\n",
    "Removing Unwanted Columns and Renaming Appropriate Columns for Improved Analysis\n",
    "Data Cleaning for photos is a process of removing unwanted columns and renaming the appropriate columns in a dataset containing photos. It involves identifying and removing irrelevant or redundant columns and renaming the columns to make them more descriptive and consistent with the content of the dataset. This improves the quality and usability of the data for analysis and modeling purposes.\n",
    "\n",
    "How to finish the current Task?\n",
    "To complete the current task, write your Python code in the \"data_cleaning()\" function in the \"photos.py\" file, and then click on \"Run Test\" to finish the task."
   ]
  },
  {
   "cell_type": "code",
   "execution_count": 8,
   "metadata": {},
   "outputs": [],
   "source": [
    "import pandas as pd\n",
    "import numpy as np\n",
    "import warnings\n",
    "warnings.filterwarnings(\"ignore\")\n",
    "\n",
    "def read_data_from_csv():\n",
    "    photos=pd.read_csv('photos.csv')\n",
    "    return photos\n",
    "\n",
    "\n",
    "def data_cleaning():\n",
    "    #DO NOT REMOVE FOLLOWING LINE\n",
    "    #call remove_unwanted_columns() function to get dataframe\n",
    "    photos=read_data_from_csv()\n",
    "\n",
    "    #Remove Unwanted columns\n",
    "    photos = photos.drop(['Insta filter used','photo type'], axis=1)\n",
    "    \n",
    "    \n",
    "    #rename columns, only these columns are allowed in the dataset\n",
    "    # 1.\tid\n",
    "    # 2.\timage_url\n",
    "    # 3.\tuser_id\n",
    "    # 4.\tcreated_date\n",
    "    photos = photos.rename(columns={'id':'id','image link':'image_url','user ID':'user_id','created dat':'created_date'})\n",
    "    #export cleaned Dataset to newcsv file named \"photos_cleaned.csv\"\n",
    "    photos.to_csv('photos_cleaned1.csv',index=False)\n",
    "    return photos\n",
    "\n",
    "\n",
    "#Do not Delete the Following function\n",
    "def task_runner():\n",
    "    data_cleaning()"
   ]
  },
  {
   "cell_type": "markdown",
   "metadata": {},
   "source": [
    "Task 6\n",
    "\n",
    "Data Cleaning for tags:\n",
    "Removing Unwanted Columns and Renaming Appropriate Columns for Improved Analysis\n",
    "Data Cleaning for tags is a process of removing unwanted columns and renaming the appropriate columns in a dataset containing tags. It involves identifying and removing irrelevant or redundant columns and renaming the columns to make them more descriptive and consistent with the content of the dataset. This improves the quality and usability of the data for analysis and modeling purposes.\n",
    "\n",
    "How to finish the current Task?\n",
    "To complete the current task, write your Python code in the \"data_cleaning()\" function in the \"tags.py\" file, and then click on \"Run Test\" to finish the task."
   ]
  },
  {
   "cell_type": "code",
   "execution_count": null,
   "metadata": {},
   "outputs": [],
   "source": [
    "import pandas as pd\n",
    "import numpy as np\n",
    "import warnings\n",
    "warnings.filterwarnings(\"ignore\")\n",
    "\n",
    "def read_data_from_csv():\n",
    "    tags=pd.read_csv('tags.csv')\n",
    "    return tags\n",
    "\n",
    "\n",
    "def data_cleaning():\n",
    "    #DO NOT REMOVE FOLLOWING LINE\n",
    "    #call remove_unwanted_columns() function to get dataframe\n",
    "    tags=read_data_from_csv()\n",
    "\n",
    "    #Remove Unwanted columns\n",
    "    tags = tags.drop(columns=['location'],axis=1)\n",
    "    \n",
    "    #rename columns, only these columns are allowed in the dataset\n",
    "    # 1.\tid\n",
    "    # 2.\ttag_name\n",
    "    # 3.\tcreated_at\n",
    "    tags = tags.rename(columns={'id':'id','tag text':'tag_name','created time':'created_at'})\n",
    "    #export cleaned Dataset to newcsv file named \"tags_cleaned.csv\"\n",
    "    tags.to_csv('tags_cleaned1.csv',index=False)\n",
    "    return tags\n",
    "\n",
    "\n",
    "#Do not Delete the Following function\n",
    "def task_runner():\n",
    "    data_cleaning()\n",
    "\n",
    "task_runner()"
   ]
  },
  {
   "cell_type": "markdown",
   "metadata": {},
   "source": [
    "Task 7\n",
    "Data Cleaning for users:\n",
    "Removing Unwanted Columns and Renaming Appropriate Columns for Improved Analysis\n",
    "Data Cleaning for users is a process of removing unwanted columns and renaming the appropriate columns in a dataset containing users. It involves identifying and removing irrelevant or redundant columns and renaming the columns to make them more descriptive and consistent with the content of the dataset. This improves the quality and usability of the data for analysis and modeling purposes.\n",
    "\n",
    "How to finish the current Task?\n",
    "To complete the current task, write your Python code in the \"data_cleaning()\" function in the \"users.py\" file, and then click on \"Run Test\" to finish the task."
   ]
  },
  {
   "cell_type": "code",
   "execution_count": null,
   "metadata": {},
   "outputs": [],
   "source": [
    "import pandas as pd\n",
    "import numpy as np\n",
    "import warnings\n",
    "warnings.filterwarnings(\"ignore\")\n",
    "\n",
    "def read_data_from_csv():\n",
    "    users=pd.read_csv('users.csv')\n",
    "    return users\n",
    "\n",
    "\n",
    "def data_cleaning():\n",
    "    #DO NOT REMOVE FOLLOWING LINE\n",
    "    #call remove_unwanted_columns() function to get dataframe\n",
    "    users=read_data_from_csv()\n",
    "\n",
    "    #Remove Unwanted columns\n",
    "    users = users.drop(columns=['private/public','post count','Verified status'],axis=1)\n",
    "    \n",
    "    \n",
    "    #rename columns, only these columns are allowed in the dataset\n",
    "    # 1.\tid\n",
    "    # 2.\tusername\n",
    "    # 3.\tcreated_at\n",
    "    users = users.rename(columns={'id':'id','name':'username','created time':'created_at'})\n",
    "    #export cleaned Dataset to newcsv file named \"users_cleaned.csv\"\n",
    "    users.to_csv('users_cleaned1.csv',index=False)\n",
    "    return users\n",
    "\n",
    "\n",
    "#Do not Delete the Following function\n",
    "def task_runner():\n",
    "    data_cleaning()\n",
    "\n",
    "task_runner()"
   ]
  },
  {
   "cell_type": "markdown",
   "metadata": {},
   "source": [
    "Generate tables using the cleaned dataset:\n",
    "Download the cleaned dataset by clicking on the file name from File explorer\n",
    "\n",
    "Utilize the MySQL database information provided in \"Database info\" to manually create the following tables for the cleaned dataset\n",
    "\n",
    "comments\n",
    "follows\n",
    "likes\n",
    "photo_tags\n",
    "photos\n",
    "tags\n",
    "users\n",
    "How to finish the current Task?\n",
    "Once the database tables are created, input the DB connection details in the \"db.py\" file, and then click on \"Run test\" to complete the task."
   ]
  },
  {
   "cell_type": "markdown",
   "metadata": {},
   "source": [
    "MOdule 2\n",
    "Write an SQL query to solve the given problem statement.\n",
    "\n",
    "Task 1\n",
    "\n",
    "Find the 5 oldest users.\n",
    "\n",
    "\n",
    "How to finish the current Task?\n",
    "To successfully finish this task, you need to compose your SQL query in the \"\"task1.sql\"\" file and click on the \"\"Run Test\"\" button. If your query passes, you will proceed to the next task. However, if your query fails, the results will be displayed on your screen."
   ]
  },
  {
   "cell_type": "code",
   "execution_count": null,
   "metadata": {},
   "outputs": [],
   "source": [
    "select id, username, created_at from users order by created_at ASC limit 5;\n"
   ]
  },
  {
   "cell_type": "markdown",
   "metadata": {},
   "source": [
    "Task 2\n",
    "\n",
    "Write an SQL query to solve the given problem statement.\n",
    "What day of the week do most users register on? \n",
    "We need to figure out when to schedule an ad campgain"
   ]
  },
  {
   "cell_type": "code",
   "execution_count": null,
   "metadata": {},
   "outputs": [],
   "source": [
    "select dayname(created_at) as weekday, count(*) as count_day from users group by weekday order by count_day DESC;"
   ]
  },
  {
   "cell_type": "markdown",
   "metadata": {},
   "source": [
    "Task 3 \n",
    "\n",
    "Write an SQL query to solve the given problem statement.\n",
    "We want to target our inactive users with an email campaign. Find the users who have never posted a photo."
   ]
  },
  {
   "cell_type": "code",
   "execution_count": null,
   "metadata": {},
   "outputs": [],
   "source": [
    "select username from users where id not in (select distinct user_id from photos);"
   ]
  },
  {
   "cell_type": "markdown",
   "metadata": {},
   "source": [
    "Task 4\n",
    "\n",
    "Write an SQL query to solve the given problem statement.\n",
    "We're running a new contest to see who can get the most likes on a single photo. WHO WON?"
   ]
  },
  {
   "cell_type": "code",
   "execution_count": null,
   "metadata": {},
   "outputs": [],
   "source": [
    "select users.username, photos.id, photos.image_url, count(likes.photo_id) as Total_Likes from users\n",
    "join photos on users.id=photos.user_id\n",
    "join likes on photos.id=likes.photo_id\n",
    "group by photos.id\n",
    "order by Total_Likes desc\n",
    "limit 1;"
   ]
  },
  {
   "cell_type": "markdown",
   "metadata": {},
   "source": [
    "Task 5\n",
    "\n",
    "Write an SQL query to solve the given problem statement.\n",
    "Our Investors want to know...How many times does the average user post? (total number of photos/total number of users)"
   ]
  },
  {
   "cell_type": "code",
   "execution_count": null,
   "metadata": {},
   "outputs": [],
   "source": [
    "SELECT ROUND((SELECT COUNT(*) FROM photos) / (SELECT COUNT(*) FROM users), 2) AS avg_user_post;\n"
   ]
  },
  {
   "cell_type": "markdown",
   "metadata": {},
   "source": [
    "Task 6\n",
    "\n",
    "Write an SQL query to solve the given problem statement.\n",
    "user ranking by postings higher to lower"
   ]
  },
  {
   "cell_type": "code",
   "execution_count": null,
   "metadata": {},
   "outputs": [],
   "source": [
    "SELECT users.username, COUNT(photos.id) AS total_photos\n",
    "FROM users\n",
    "LEFT JOIN photos ON users.id = photos.user_id\n",
    "GROUP BY users.id\n",
    "ORDER BY total_photos DESC;\n"
   ]
  },
  {
   "cell_type": "markdown",
   "metadata": {},
   "source": [
    "Task 7\n",
    "\n",
    "Write an SQL query to solve the given problem statement.\n",
    "Total Posts by users (longer versionof SELECT COUNT(*)FROM photos)"
   ]
  },
  {
   "cell_type": "code",
   "execution_count": null,
   "metadata": {},
   "outputs": [],
   "source": [
    "SELECT SUM(user_posts.total_posts_per_user)\n",
    "FROM (\n",
    "    SELECT COUNT(*) as total_posts_per_user\n",
    "    FROM photos\n",
    "    GROUP BY user_id\n",
    ") AS user_posts\n",
    "\n"
   ]
  },
  {
   "cell_type": "markdown",
   "metadata": {},
   "source": [
    "Task 8 \n",
    "\n",
    "Write an SQL query to solve the given problem statement.\n",
    "Total numbers of users who have posted at least one time"
   ]
  },
  {
   "cell_type": "code",
   "execution_count": null,
   "metadata": {},
   "outputs": [],
   "source": [
    "SELECT COUNT(DISTINCT user_id) AS num_users\n",
    "FROM photos;\n"
   ]
  },
  {
   "cell_type": "markdown",
   "metadata": {},
   "source": [
    "Task 9 \n",
    "\n",
    "Write an SQL query to solve the given problem statement.\n",
    "A brand wants to know which hashtags to use in a post. What are the top 5 most commonly used hashtags?"
   ]
  },
  {
   "cell_type": "code",
   "execution_count": null,
   "metadata": {},
   "outputs": [],
   "source": [
    "select tag_name, count(tag_id) as total\n",
    "from tags\n",
    "join photo_tags on tags.id=photo_tags.tag_id\n",
    "group by tag_name\n",
    "order by total desc;\n"
   ]
  },
  {
   "cell_type": "markdown",
   "metadata": {},
   "source": [
    "Task 10 \n",
    "\n",
    "Write an SQL query to solve the given problem statement.\n",
    "We have a small problem with bots on our site. Find users who have liked every single photo on the site"
   ]
  },
  {
   "cell_type": "code",
   "execution_count": null,
   "metadata": {},
   "outputs": [],
   "source": [
    "select users.id, users.username,count(photo_id) as total_likes_by_user from users\n",
    "join likes on users.id=likes.user_id\n",
    "group by users.id\n",
    "having count(distinct likes.photo_id)=(select count(*) from photos);"
   ]
  },
  {
   "cell_type": "markdown",
   "metadata": {},
   "source": [
    "Task 11\n",
    "\n",
    "Write an SQL query to solve the given problem statement.\n",
    "We also have a problem with celebrities. Find users who have never commented on a photo"
   ]
  },
  {
   "cell_type": "code",
   "execution_count": null,
   "metadata": {},
   "outputs": [],
   "source": [
    "select users.username, users.created_at from users\n",
    "left join comments on users.id=comments.user_id where comments.id is null;"
   ]
  },
  {
   "cell_type": "markdown",
   "metadata": {},
   "source": [
    "Task 12\n",
    "\n",
    "Write an SQL query to solve the given problem statement.\n",
    "Are we overrun with bots and celebrity accounts? Find the percentage of our users who have either never commented on a photo or have commented on every photo"
   ]
  },
  {
   "cell_type": "raw",
   "metadata": {},
   "source": [
    "select count(distinct users.id) - count(distinct photos.user_id) as num_never_commented,\n",
    "100 * (count(distinct users.id) - count(distinct comments.user_id))/ count(distinct users.id) as percentage,\n",
    "count(distinct likes.user_id) as num_likes_photos from users\n",
    "left join photos on users.id=photos.user_id \n",
    "left join comments on photos.id=comments.photo_id and comments.user_id=users.id\n",
    "left join (select user_id from likes group by user_id\n",
    "having count(distinct photo_id) = (select count(*) from photos)) as \n",
    "likes on users.id=likes.user_id;"
   ]
  },
  {
   "cell_type": "code",
   "execution_count": null,
   "metadata": {},
   "outputs": [],
   "source": [
    "SELECT \n",
    "    COUNT(DISTINCT users.id) - COUNT(DISTINCT comments.user_id) AS `Number Of Users who never commented`,\n",
    "    100 * (COUNT(DISTINCT users.id) - COUNT(DISTINCT comments.user_id)) / COUNT(DISTINCT users.id) AS `%`,\n",
    "    COUNT(DISTINCT likes.user_id) AS `Number of Users who likes every photo`\n",
    "FROM users\n",
    "LEFT JOIN photos ON users.id = photos.user_id\n",
    "LEFT JOIN comments ON comments.photo_id = photos.id AND comments.user_id = users.id\n",
    "LEFT JOIN (\n",
    "    SELECT user_id\n",
    "    FROM likes\n",
    "    GROUP BY user_id\n",
    "    HAVING COUNT(DISTINCT photo_id) = (SELECT COUNT(*) FROM photos)\n",
    ") AS likes ON users.id = likes.user_id;\n"
   ]
  },
  {
   "cell_type": "code",
   "execution_count": null,
   "metadata": {},
   "outputs": [],
   "source": [
    "SELECT \n",
    "    COUNT(DISTINCT CASE WHEN c.user_id IS NULL THEN u.id END) AS \"Number Of Users who never commented\",\n",
    "    ROUND(COUNT(DISTINCT CASE WHEN l.total_likes = p.total_photos THEN u.id END) / COUNT(DISTINCT u.id) * 100, 4) AS \"% of Users who never commented\",\n",
    "    COUNT(DISTINCT CASE WHEN l.total_likes = p.total_photos THEN u.id END) AS \"Number of Users who likes every photo\"\n",
    "FROM \n",
    "    users u\n",
    "    LEFT JOIN (\n",
    "        SELECT \n",
    "            user_id, \n",
    "            COUNT(DISTINCT photo_id) AS total_comments\n",
    "        FROM \n",
    "            comments\n",
    "        GROUP BY \n",
    "            user_id\n",
    "    ) c ON u.id = c.user_id\n",
    "    LEFT JOIN (\n",
    "        SELECT \n",
    "            user_id, \n",
    "            COUNT(DISTINCT photo_id) AS total_likes\n",
    "        FROM \n",
    "            likes\n",
    "        GROUP BY \n",
    "            user_id\n",
    "    ) l ON u.id = l.user_id\n",
    "    CROSS JOIN (\n",
    "        SELECT \n",
    "            COUNT(*) AS total_photos\n",
    "        FROM \n",
    "            photos\n",
    "    ) p;"
   ]
  },
  {
   "cell_type": "markdown",
   "metadata": {},
   "source": [
    "Task 13\n",
    "\n",
    "Write an SQL query to solve the given problem statement.\n",
    "Find users who have ever commented on a photo"
   ]
  },
  {
   "cell_type": "code",
   "execution_count": null,
   "metadata": {},
   "outputs": [],
   "source": [
    "SELECT u.username, c.comment_text\n",
    "FROM users u\n",
    "JOIN (\n",
    "  SELECT user_id, MAX(photo_id) AS max_photo_id\n",
    "  FROM comments\n",
    "  GROUP BY user_id\n",
    ") AS max_comments ON u.id = max_comments.user_id\n",
    "JOIN comments c ON max_comments.user_id = c.user_id AND max_comments.max_photo_id = c.photo_id;\n",
    "task13"
   ]
  },
  {
   "cell_type": "markdown",
   "metadata": {},
   "source": [
    "Task 14\n",
    "\n",
    "Write an SQL query to solve the given problem statement.\n",
    "Are we overrun with bots and celebrity accounts? Find the percentage of our users who have either never commented on a photo or have commented on photos before."
   ]
  },
  {
   "cell_type": "code",
   "execution_count": null,
   "metadata": {},
   "outputs": [],
   "source": [
    "SELECT \n",
    "  COUNT(DISTINCT CASE WHEN c.id IS NULL THEN u.id END) AS never_commented_count,\n",
    "  ROUND(100.0 * COUNT(DISTINCT CASE WHEN c.id IS NOT NULL THEN u.id END) / COUNT(DISTINCT users.id), 4) AS percentage,\n",
    "  COUNT(DISTINCT CASE WHEN c.id IS NOT NULL THEN u.id END) AS commented_count\n",
    "FROM users u\n",
    "LEFT JOIN comments c ON u.id = c.user_id;\n"
   ]
  },
  {
   "cell_type": "code",
   "execution_count": null,
   "metadata": {},
   "outputs": [],
   "source": []
  }
 ],
 "metadata": {
  "kernelspec": {
   "display_name": "Python 3",
   "language": "python",
   "name": "python3"
  },
  "language_info": {
   "codemirror_mode": {
    "name": "ipython",
    "version": 3
   },
   "file_extension": ".py",
   "mimetype": "text/x-python",
   "name": "python",
   "nbconvert_exporter": "python",
   "pygments_lexer": "ipython3",
   "version": "3.7.3"
  }
 },
 "nbformat": 4,
 "nbformat_minor": 2
}
